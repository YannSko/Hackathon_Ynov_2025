from fastapi import FastAPI
from pydantic import BaseModel

types_to_factors = {
    "avion": 0.255,
    "TGV": 0.002,
    "Intercites": 0.01,
    "voiture_thermique": 0.192,
    "voiture_electrique": 0.0,
    "autocar_thermique": 0.028,
    "velo": 0.0,
    "velo_assistance_electrique": 0.0,
    "bus_thermique": 0.104,
    "tramway": 0.003,
    "metro": 0.003,
    "scooter_moto_legere_thermique": 0.072,
    "moto_thermique": 0.11,
    "RER_ou_Transilien": 0.006,
    "TER": 0.01,
    "bus_electrique": 0.0,
    "trotinette_assistance_electrique": 0.0,
    "bus_GNV": 0.078,
    "covoiturage_thermique_1": 0.192,
    "covoiturage_thermique_2": 0.096,
    "covoiturage_thermique_3": 0.064,
    "covoiturage_thermique_4": 0.048,
    "covoiturage_electrique_1": 0.0,
    "covoiturage_electrique_2": 0.0,
    "covoiturage_electrique_3": 0.0,
    "covoiturage_electrique_4": 0.0,
    "marche": 0.0
}

# Moyenne des émissions en kg CO2/km basée sur les données fournies
average_emission = sum(types_to_factors.values()) / len(types_to_factors)

class TransportInput(BaseModel):
    type_transport: str
    distance: float

app = FastAPI()

@app.post("/calculate")
async def calculate_transport_cost(input: TransportInput):
    factor = types_to_factors.get(input.type_transport)
    
    if factor is None:
        return {"error": "Type de transport inconnu"}
    
    cost = input.distance * factor
    
    # Déterminer l'indicateur de performance
    if cost <= average_emission:
        indicator = 1  # Bon
    elif average_emission < cost <= 2 * average_emission:
        indicator = 2  # Moyen
    else:
        indicator = 3  # Pas bon

    return {
        "type_transport": input.type_transport,
        "distance": input.distance,
        "cost": cost,
        "average_emission": average_emission,
        "indicator": indicator
    }
