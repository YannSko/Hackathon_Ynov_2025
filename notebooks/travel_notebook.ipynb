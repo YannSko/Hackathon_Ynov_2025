from fastapi import FastAPI
from pydantic import BaseModel

types_to_factors = {
    "voiture": 0.5,
    "velo": 0.1,
    "avion": 2.0,
    "train": 0.3
}

class TransportInput(BaseModel):
    type_transport: str
    distance: float

app = FastAPI()

@app.post("/calculate")
async def calculate_transport_cost(input: TransportInput):
    factor = types_to_factors.get(input.type_transport)
    if factor is None:
        return {"error": "Type de transport inconnu"}
    
    cost = input.distance * factor
    return {"type_transport": input.type_transport, "distance": input.distance, "cost": cost}
