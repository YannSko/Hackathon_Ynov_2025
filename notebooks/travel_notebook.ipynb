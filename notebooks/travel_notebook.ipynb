from statistics import mean

# Dictionnaire des émissions de CO2 par km pour différents moyens de transport
EMISSIONS_PAR_TRANSPORT = {
    "voiture": 0.220,  # kg CO2/km pour une voiture moyenne
    "bus": 0.085,      # kg CO2/km par passager
    "train": 0.014,    # kg CO2/km par passager
    "avion": 0.285,    # kg CO2/km par passager
    "velo": 0,         # kg CO2/km
    "marche": 0        # kg CO2/km
}

def calculer_emissions(transport: str, distance: float) -> dict:
    """
    Calcule les émissions de CO2 pour un trajet donné.
    
    Args:
        transport: Le moyen de transport utilisé
        distance: La distance parcourue en kilomètres
    
    Returns:
        Un dictionnaire contenant les résultats des calculs
    """
    # Vérifier si le transport existe
    if transport not in EMISSIONS_PAR_TRANSPORT:
        return {
            "erreur": f"Transport non reconnu. Options disponibles: {', '.join(EMISSIONS_PAR_TRANSPORT.keys())}"
        }
    
    # Vérifier si la distance est positive
    if distance <= 0:
        return {"erreur": "La distance doit être positive"}
    
    # Calculer les émissions pour ce trajet
    emissions = EMISSIONS_PAR_TRANSPORT[transport] * distance
    
    # Calculer la moyenne des émissions pour cette distance
    emissions_tous = [taux * distance for taux in EMISSIONS_PAR_TRANSPORT.values()]
    moyenne = mean(emissions_tous)
    
    # Déterminer l'indicateur
    if emissions == 0:
        indicateur = "Transport écologique - pas d'émissions"
    elif emissions < moyenne * 0.75:
        indicateur = "Sous la moyenne - Bon pour l'environnement"
    elif emissions <= moyenne * 1.25:
        indicateur = "Dans la moyenne"
    else:
        indicateur = "Au-dessus de la moyenne - Impact environnemental élevé"
    
    # Calculer les émissions pour tous les moyens de transport
    emissions_autres = {
        t: EMISSIONS_PAR_TRANSPORT[t] * distance
        for t in EMISSIONS_PAR_TRANSPORT
    }
    
    return {
        "transport": transport,
        "distance": distance,
        "emissions": emissions,
        "moyenne_emissions": moyenne,
        "indicateur": indicateur,
        "emissions_par_transport": emissions_autres
    }

def afficher_resultats(resultats: dict):
    """
    Affiche les résultats de façon formatée.
    """
    if "erreur" in resultats:
        print(f"Erreur : {resultats['erreur']}")
        return
        
    print(f"\nRésultats pour un trajet de {resultats['distance']} km en {resultats['transport']}:")
    print("-" * 50)
    print(f"Émissions CO2: {resultats['emissions']:.2f} kg")
    print(f"Moyenne des émissions: {resultats['moyenne_emissions']:.2f} kg")
    print(f"Indicateur: {resultats['indicateur']}")
    
    print("\nÉmissions pour tous les moyens de transport:")
    print("-" * 50)
    for transport, emission in resultats['emissions_par_transport'].items():
        print(f"{transport}: {emission:.2f} kg CO2")

# Exemple d'utilisation
if __name__ == "__main__":
    # Test avec différents transports
    tests = [
        ("voiture", 100),
        ("train", 100),
        ("velo", 100),
        ("fusee", 100),  # Test avec un transport invalide
        ("bus", -50)     # Test avec une distance invalide
    ]
    
    for transport, distance in tests:
        resultats = calculer_emissions(transport, distance)
        afficher_resultats(resultats)
        print("\n" + "="*50 + "\n")
