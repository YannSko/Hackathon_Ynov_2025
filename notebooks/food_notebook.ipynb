{
 "cells": [
  {
   "cell_type": "markdown",
   "metadata": {},
   "source": [
    "# Food API"
   ]
  },
  {
   "cell_type": "code",
   "execution_count": null,
   "metadata": {},
   "outputs": [],
   "source": [
    "def get_ingredients_from_dish(dish_name):\n",
    "    api_key = \"your_spoonacular_api_key\"\n",
    "    url = f\"https://api.spoonacular.com/recipes/complexSearch?query={dish_name}&number=1&apiKey={api_key}\"\n",
    "    response = requests.get(url)\n",
    "    if response.status_code == 200:\n",
    "        data = response.json()\n",
    "        if data.get(\"results\"):\n",
    "            recipe_id = data[\"results\"][0][\"id\"]\n",
    "            detail_url = f\"https://api.spoonacular.com/recipes/{recipe_id}/information?apiKey={api_key}\"\n",
    "            detail_response = requests.get(detail_url)\n",
    "            if detail_response.status_code == 200:\n",
    "                recipe_details = detail_response.json()\n",
    "                return [ingredient[\"name\"] for ingredient in recipe_details[\"extendedIngredients\"]]\n",
    "    return []"
   ]
  },
  {
   "cell_type": "code",
   "execution_count": null,
   "metadata": {},
   "outputs": [
    {
     "name": "stdout",
     "output_type": "stream",
     "text": [
      "Fetching ingredients for cheesburger...\n",
      "No ingredients found for cheesburger. Please check the dish name.\n"
     ]
    }
   ],
   "source": [
    "import requests\n",
    "\n",
    "\n",
    "\n",
    "def fetch_emission_factor(ingredient):\n",
    "    \"\"\"\n",
    "    Fetch emission factor dynamically from a database or API.\n",
    "    For simplicity, we mock a basic dynamic emission fetcher.\n",
    "    \"\"\"\n",
    "    url = f\"https://world.openfoodfacts.org/cgi/search.pl?search_terms={ingredient}&search_simple=1&json=1\"\n",
    "    response = requests.get(url)\n",
    "    if response.status_code == 200:\n",
    "        data = response.json()\n",
    "        products = data.get(\"products\", [])\n",
    "        if products:\n",
    "            # Retrieve category and use it to approximate emissions\n",
    "            categories = products[0].get(\"categories\", \"\").lower()\n",
    "            if \"meat\" in categories:\n",
    "                return 50  # Approximation for meats (kg CO2 per kg)\n",
    "            elif \"cheese\" in categories:\n",
    "                return 21  # Approximation for cheese\n",
    "            elif \"vegetables\" in categories or \"fruit\" in categories:\n",
    "                return 0.5  # Approximation for vegetables\n",
    "            elif \"pasta\" in categories or \"cereals\" in categories:\n",
    "                return 1.6  # Approximation for pasta/flour\n",
    "    return 0  # Default emission if not found\n",
    "\n",
    "def calculate_dish_emissions(dish_name, weights):\n",
    "    \"\"\"\n",
    "    Calculate total emissions for a given dish based on its ingredients.\n",
    "    \"\"\"\n",
    "    ingredients = get_ingredients_from_dish(dish_name)\n",
    "    total_emissions = 0\n",
    "    details = []\n",
    "\n",
    "    for ingredient in ingredients:\n",
    "        weight = weights.get(ingredient, 0)  # Default weight if not provided\n",
    "        emission_factor = fetch_emission_factor(ingredient)\n",
    "        emissions = emission_factor * weight\n",
    "        total_emissions += emissions\n",
    "        details.append({\n",
    "            \"ingredient\": ingredient,\n",
    "            \"weight (kg)\": weight,\n",
    "            \"emission_factor (kg CO2/kg)\": emission_factor,\n",
    "            \"emissions (kg CO2)\": emissions,\n",
    "        })\n",
    "    \n",
    "    return total_emissions, details\n",
    "\n",
    "def display_results(dish_name, total_emissions, details):\n",
    "    \"\"\"\n",
    "    Display the CO₂ emissions breakdown for a dish.\n",
    "    \"\"\"\n",
    "    print(f\"\\nCO₂ Emission Breakdown for {dish_name.title()}:\")\n",
    "    for item in details:\n",
    "        print(f\"- {item['ingredient']}: {item['emissions (kg CO2)']} kg CO₂ \"\n",
    "              f\"(weight: {item['weight (kg)']} kg, emission factor: {item['emission_factor (kg CO2/kg)']} kg CO₂/kg)\")\n",
    "    print(f\"\\nTotal CO₂ emissions for {dish_name.title()}: {total_emissions:.2f} kg CO₂\")\n",
    "\n",
    "if __name__ == \"__main__\":\n",
    "    # User-defined dish and weights (in kg)\n",
    "    dish_name = input(\"Enter the name of the dish: \").strip()\n",
    "    print(f\"Fetching ingredients for {dish_name}...\")\n",
    "\n",
    "    # Prompt user for weights dynamically\n",
    "    ingredients = get_ingredients_from_dish(dish_name)\n",
    "    weights = {}\n",
    "    for ingredient in ingredients:\n",
    "        try:\n",
    "            weight = float(input(f\"Enter the weight of {ingredient} in kg (e.g., 0.2 for 200g): \"))\n",
    "            weights[ingredient] = weight\n",
    "        except ValueError:\n",
    "            print(f\"Invalid weight for {ingredient}. Skipping.\")\n",
    "\n",
    "    # Calculate and display emissions\n",
    "    if ingredients:\n",
    "        total_emissions, details = calculate_dish_emissions(dish_name, weights)\n",
    "        display_results(dish_name, total_emissions, details)\n",
    "    else:\n",
    "        print(f\"No ingredients found for {dish_name}. Please check the dish name.\")\n"
   ]
  }
 ],
 "metadata": {
  "kernelspec": {
   "display_name": "venv",
   "language": "python",
   "name": "python3"
  },
  "language_info": {
   "codemirror_mode": {
    "name": "ipython",
    "version": 3
   },
   "file_extension": ".py",
   "mimetype": "text/x-python",
   "name": "python",
   "nbconvert_exporter": "python",
   "pygments_lexer": "ipython3",
   "version": "3.12.3"
  }
 },
 "nbformat": 4,
 "nbformat_minor": 2
}
